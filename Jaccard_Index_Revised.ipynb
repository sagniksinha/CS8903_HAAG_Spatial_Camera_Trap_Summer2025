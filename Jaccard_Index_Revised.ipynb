{
 "cells": [
  {
   "cell_type": "code",
   "execution_count": 1,
   "id": "6ea378cd-8b43-4f12-933c-86940fb6a1a1",
   "metadata": {},
   "outputs": [],
   "source": [
    "import pandas as pd\n",
    "from itertools import combinations\n",
    "from collections import defaultdict\n",
    "import matplotlib.pyplot as plt\n",
    "import seaborn as sns\n",
    "from matplotlib.ticker import ScalarFormatter\n",
    "import numpy as np\n",
    "import geopandas as gpd\n",
    "import os\n",
    "import contextily as ctx\n",
    "from shapely.geometry import Point"
   ]
  },
  {
   "cell_type": "code",
   "execution_count": 2,
   "id": "bb3fdad6-8cc9-4397-995a-405b4a5d3137",
   "metadata": {},
   "outputs": [],
   "source": [
    "input_path = r\"C:\\Users\\sagni\\Documents\\Personal Files\\Research\\doi_10_5061_dryad_k0p2ngfhn__v20250410\\Data_Clustered_Cleaned.csv\"\n",
    "\n",
    "# Read the CSV file into a DataFrame\n",
    "df_merged = pd.read_csv(input_path, low_memory=False)"
   ]
  },
  {
   "cell_type": "markdown",
   "id": "cd417533-9297-4e01-8b2d-16eb9c6906da",
   "metadata": {},
   "source": [
    "## Save Data"
   ]
  },
  {
   "cell_type": "code",
   "execution_count": 3,
   "id": "c526c933-4691-4566-a981-258f32cf5522",
   "metadata": {},
   "outputs": [
    {
     "name": "stdout",
     "output_type": "stream",
     "text": [
      "unique_years_count\n",
      "1    1417\n",
      "2     971\n",
      "3    1387\n",
      "4    1264\n",
      "5    4550\n",
      "Name: record_count, dtype: int64\n"
     ]
    }
   ],
   "source": [
    "# Step 1: Count records and unique years per Deployment_ID\n",
    "unique_combinations = df_merged[['Deployment_ID', 'Cluster_Agglo', 'Year']].drop_duplicates()\n",
    "\n",
    "deployment_stats = (\n",
    "    unique_combinations.groupby('Cluster_Agglo')\n",
    "    .agg(record_count=('Year', 'count'), unique_years_count=('Year', 'nunique'))\n",
    "    .reset_index()\n",
    ")\n",
    "\n",
    "# Step 2: Group by unique_years_count and sum the record_count\n",
    "summary = (\n",
    "    deployment_stats\n",
    "    .groupby('unique_years_count')['record_count']\n",
    "    .sum()\n",
    "    .sort_index()\n",
    ")\n",
    "\n",
    "print(summary)"
   ]
  },
  {
   "cell_type": "code",
   "execution_count": 4,
   "id": "4887034d-a952-47b7-aa1d-0d69cba3258b",
   "metadata": {},
   "outputs": [],
   "source": [
    "final = df_merged.copy()"
   ]
  },
  {
   "cell_type": "code",
   "execution_count": 9,
   "id": "b1056db4-a218-431f-b198-f81088ec926a",
   "metadata": {},
   "outputs": [],
   "source": [
    "# Step 1: Filter and dedupe\n",
    "df = final[['Year', 'Species', 'Cluster_Agglo']].drop_duplicates()\n",
    "\n",
    "# Ensure Year is sorted as int\n",
    "df['Year'] = df['Year'].astype(int)\n",
    "years = sorted(df['Year'].unique())  # [2019, 2020, 2021, 2022, 2023]\n",
    "\n",
    "# ------------------ Species Movement: Jaccard of Clusters ------------------\n",
    "\n",
    "species_year_clusters = defaultdict(lambda: defaultdict(set))\n",
    "\n",
    "# Build mapping: Species → Year → Set of Clusters\n",
    "for _, row in df.iterrows():\n",
    "    species_year_clusters[row['Species']][row['Year']].add(row['Cluster_Agglo'])\n",
    "\n",
    "species_jaccard_scores = []\n",
    "\n",
    "for species, year_map in species_year_clusters.items():\n",
    "    for y1, y2 in zip(years, years[1:]):  # consecutive year pairs\n",
    "        set1 = year_map.get(y1, set())\n",
    "        set2 = year_map.get(y2, set())\n",
    "        if set1 or set2:\n",
    "            intersection = len(set1 & set2)\n",
    "            union = len(set1 | set2)\n",
    "            jaccard = intersection / union if union != 0 else None\n",
    "            species_jaccard_scores.append({\n",
    "                'Species': species,\n",
    "                'Year1': y1,\n",
    "                'Year2': y2,\n",
    "                'JaccardSimilarity': jaccard\n",
    "            })\n",
    "\n",
    "df_species_movement = pd.DataFrame(species_jaccard_scores)\n",
    "\n",
    "# ------------------ Location Movement: Jaccard of Species ------------------\n",
    "\n",
    "cluster_year_species = defaultdict(lambda: defaultdict(set))\n",
    "\n",
    "# Build mapping: Cluster → Year → Set of Species\n",
    "for _, row in df.iterrows():\n",
    "    cluster_year_species[row['Cluster_Agglo']][row['Year']].add(row['Species'])\n",
    "\n",
    "cluster_jaccard_scores = []\n",
    "\n",
    "for cluster, year_map in cluster_year_species.items():\n",
    "    for y1, y2 in zip(years, years[1:]):  # consecutive year pairs\n",
    "        set1 = year_map.get(y1, set())\n",
    "        set2 = year_map.get(y2, set())\n",
    "        if set1 or set2:\n",
    "            intersection = len(set1 & set2)\n",
    "            union = len(set1 | set2)\n",
    "            jaccard = intersection / union if union != 0 else None\n",
    "            cluster_jaccard_scores.append({\n",
    "                'Cluster_Agglo': cluster,\n",
    "                'Year1': y1,\n",
    "                'Year2': y2,\n",
    "                'JaccardSimilarity': jaccard\n",
    "            })\n",
    "\n",
    "df_cluster_movement = pd.DataFrame(cluster_jaccard_scores)"
   ]
  },
  {
   "cell_type": "markdown",
   "id": "e1fbb0e0-3504-4faa-a5b2-72ee6c1af745",
   "metadata": {},
   "source": [
    "## Jaccard Index - Species Movement"
   ]
  },
  {
   "cell_type": "markdown",
   "id": "5ad4fada-7f09-47d3-8883-8fd1e9794216",
   "metadata": {},
   "source": [
    "#### Most Moving Species = Lowest Average Jaccard\n",
    "\n",
    "- **Low Jaccard scores over time** → Highly moving species  \n",
    "  Species that frequently change their locations or habitats.\n",
    "\n",
    "- **High Jaccard scores over time** → Stationary or consistent habitat species  \n",
    "  Species that tend to remain in the same deployment areas across years."
   ]
  }
 ],
 "metadata": {
  "kernelspec": {
   "display_name": "Python 3 (ipykernel)",
   "language": "python",
   "name": "python3"
  },
  "language_info": {
   "codemirror_mode": {
    "name": "ipython",
    "version": 3
   },
   "file_extension": ".py",
   "mimetype": "text/x-python",
   "name": "python",
   "nbconvert_exporter": "python",
   "pygments_lexer": "ipython3",
   "version": "3.11.11"
  }
 },
 "nbformat": 4,
 "nbformat_minor": 5
}

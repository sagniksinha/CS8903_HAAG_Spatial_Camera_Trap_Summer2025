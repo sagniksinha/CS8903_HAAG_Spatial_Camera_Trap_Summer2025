{
 "cells": [
  {
   "cell_type": "markdown",
   "id": "f99cf41e-5f20-4bec-aa81-efb7dab54c0c",
   "metadata": {},
   "source": [
    "## Step 1: Preprocess Data"
   ]
  },
  {
   "cell_type": "code",
   "execution_count": 46,
   "id": "6aa15c11-b92d-406d-b4ea-a4df8f88e572",
   "metadata": {},
   "outputs": [
    {
     "name": "stderr",
     "output_type": "stream",
     "text": [
      "C:\\Users\\sagni\\AppData\\Local\\Temp\\ipykernel_8844\\851336757.py:7: DtypeWarning: Columns (4) have mixed types. Specify dtype option on import or set low_memory=False.\n",
      "  df = pd.read_csv(file_path)\n"
     ]
    }
   ],
   "source": [
    "import pandas as pd\n",
    "\n",
    "# Load your dataset (replace with your file path)\n",
    "# File path\n",
    "file_path = r\"C:\\Users\\sagni\\Documents\\Personal Files\\Research\\doi_10_5061_dryad_k0p2ngfhn__v20250410\\Data_Clustered_Cleaned.csv\"\n",
    "# Read CSV into dataframe\n",
    "df = pd.read_csv(file_path)\n",
    "df['Detected'] = 1\n",
    "\n",
    "# Create site × year detection matrix for a specific species\n",
    "species = \"brown bear\"  # change as needed\n",
    "df_species = df[df['Common_Name'] == species]\n",
    "\n",
    "# Pivot to detection history (Cluster_Agglo as site, Year as survey)\n",
    "detection_matrix = df_species.pivot_table(index='Cluster_Agglo',\n",
    "                                          columns='Year',\n",
    "                                          values='Detected',\n",
    "                                          aggfunc='max').fillna(0)"
   ]
  },
  {
   "cell_type": "markdown",
   "id": "4456a8d9-4b73-44cd-9134-f96696c026a3",
   "metadata": {},
   "source": [
    "## Step 2: Build Occupancy Model (using PyMC)"
   ]
  },
  {
   "cell_type": "code",
   "execution_count": 47,
   "id": "04037741-a9cc-46ea-8921-5ad92e89f76c",
   "metadata": {
    "scrolled": true
   },
   "outputs": [
    {
     "name": "stderr",
     "output_type": "stream",
     "text": [
      "Multiprocess sampling (4 chains in 4 jobs)\n",
      "CompoundStep\n",
      ">NUTS: [psi, p]\n",
      ">BinaryGibbsMetropolis: [z]\n"
     ]
    },
    {
     "data": {
      "application/vnd.jupyter.widget-view+json": {
       "model_id": "d5324ae799f64eb9a898d2551299d85f",
       "version_major": 2,
       "version_minor": 0
      },
      "text/plain": [
       "Output()"
      ]
     },
     "metadata": {},
     "output_type": "display_data"
    },
    {
     "data": {
      "text/html": [
       "<pre style=\"white-space:pre;overflow-x:auto;line-height:normal;font-family:Menlo,'DejaVu Sans Mono',consolas,'Courier New',monospace\"></pre>\n"
      ],
      "text/plain": []
     },
     "metadata": {},
     "output_type": "display_data"
    },
    {
     "name": "stderr",
     "output_type": "stream",
     "text": [
      "Sampling 4 chains for 1_000 tune and 2_000 draw iterations (4_000 + 8_000 draws total) took 50 seconds.\n",
      "C:\\Users\\sagni\\anaconda3\\envs\\AgenticAI\\Lib\\site-packages\\arviz\\stats\\diagnostics.py:596: RuntimeWarning: invalid value encountered in scalar divide\n",
      "  (between_chain_variance / within_chain_variance + num_samples - 1) / (num_samples)\n"
     ]
    }
   ],
   "source": [
    "import pymc as pm\n",
    "import numpy as np\n",
    "\n",
    "# Detection matrix as numpy array\n",
    "y = detection_matrix.values.astype(int)\n",
    "n_sites, n_surveys = y.shape\n",
    "\n",
    "with pm.Model() as model:\n",
    "    # Priors\n",
    "    psi = pm.Beta(\"psi\", 1, 1)  # occupancy probability\n",
    "    p = pm.Beta(\"p\", 1, 1)      # detection probability\n",
    "\n",
    "    # Latent occupancy state (z): 1 if occupied, else 0\n",
    "    z = pm.Bernoulli(\"z\", p=psi, shape=n_sites)\n",
    "\n",
    "    # Observation model: detect if occupied and detection works\n",
    "    y_obs = pm.Bernoulli(\"y_obs\", p=z[:, None] * p, observed=y)\n",
    "\n",
    "    trace = pm.sample(2000, tune=1000, return_inferencedata=True)\n"
   ]
  },
  {
   "cell_type": "markdown",
   "id": "5461af09-c3db-432d-955b-a7a34977481d",
   "metadata": {},
   "source": [
    "## Step 3: Add Environmental Covariates"
   ]
  },
  {
   "cell_type": "code",
   "execution_count": 48,
   "id": "6c579c8c-0156-4edb-8add-fb1569d85554",
   "metadata": {},
   "outputs": [],
   "source": [
    "# Site-level covariates (e.g., most common habitat per site)\n",
    "habitat_mode = df.groupby('Cluster_Agglo')['Habitat'].agg(lambda x: x.mode()[0])\n",
    "group_size_mean = df.groupby('Cluster_Agglo')['Group_Size'].mean()\n",
    "year_median = df.groupby('Cluster_Agglo')['Year'].median()\n",
    "\n",
    "# Merge into design matrix\n",
    "X = pd.get_dummies(habitat_mode, drop_first=True)\n",
    "X['Group_Size'] = group_size_mean\n",
    "X['Year'] = year_median\n",
    "X = X.loc[detection_matrix.index]  # align rows\n",
    "\n",
    "# Standardize\n",
    "X_std = (X - X.mean()) / X.std()\n"
   ]
  },
  {
   "cell_type": "code",
   "execution_count": 53,
   "id": "7f055374-80e4-4aee-8d5a-35ca33b4fc76",
   "metadata": {},
   "outputs": [
    {
     "name": "stderr",
     "output_type": "stream",
     "text": [
      "WARNING (aesara.configdefaults): g++ not available, if using conda: `conda install m2w64-toolchain`\n",
      "WARNING (aesara.configdefaults): g++ not detected!  Aesara will be unable to compile C-implementations and will default to Python. Performance may be severely degraded. To remove this warning, set Aesara flags cxx to an empty string.\n"
     ]
    },
    {
     "ename": "ModuleNotFoundError",
     "evalue": "No module named 'distutils.msvccompiler'",
     "output_type": "error",
     "traceback": [
      "\u001b[1;31m---------------------------------------------------------------------------\u001b[0m",
      "\u001b[1;31mNoSectionError\u001b[0m                            Traceback (most recent call last)",
      "File \u001b[1;32m~\\anaconda3\\envs\\AgenticAI\\Lib\\site-packages\\aesara\\configparser.py:234\u001b[0m, in \u001b[0;36mAesaraConfigParser.fetch_val_for_key\u001b[1;34m(self, key, delete_key)\u001b[0m\n\u001b[0;32m    233\u001b[0m \u001b[38;5;28;01mtry\u001b[39;00m:\n\u001b[1;32m--> 234\u001b[0m     \u001b[38;5;28;01mreturn\u001b[39;00m \u001b[38;5;28mself\u001b[39m\u001b[38;5;241m.\u001b[39m_aesara_cfg\u001b[38;5;241m.\u001b[39mget(section, option)\n\u001b[0;32m    235\u001b[0m \u001b[38;5;28;01mexcept\u001b[39;00m InterpolationError:\n",
      "File \u001b[1;32m~\\anaconda3\\envs\\AgenticAI\\Lib\\configparser.py:797\u001b[0m, in \u001b[0;36mRawConfigParser.get\u001b[1;34m(self, section, option, raw, vars, fallback)\u001b[0m\n\u001b[0;32m    796\u001b[0m \u001b[38;5;28;01mtry\u001b[39;00m:\n\u001b[1;32m--> 797\u001b[0m     d \u001b[38;5;241m=\u001b[39m \u001b[38;5;28mself\u001b[39m\u001b[38;5;241m.\u001b[39m_unify_values(section, \u001b[38;5;28mvars\u001b[39m)\n\u001b[0;32m    798\u001b[0m \u001b[38;5;28;01mexcept\u001b[39;00m NoSectionError:\n",
      "File \u001b[1;32m~\\anaconda3\\envs\\AgenticAI\\Lib\\configparser.py:1170\u001b[0m, in \u001b[0;36mRawConfigParser._unify_values\u001b[1;34m(self, section, vars)\u001b[0m\n\u001b[0;32m   1169\u001b[0m     \u001b[38;5;28;01mif\u001b[39;00m section \u001b[38;5;241m!=\u001b[39m \u001b[38;5;28mself\u001b[39m\u001b[38;5;241m.\u001b[39mdefault_section:\n\u001b[1;32m-> 1170\u001b[0m         \u001b[38;5;28;01mraise\u001b[39;00m NoSectionError(section) \u001b[38;5;28;01mfrom\u001b[39;00m \u001b[38;5;28;01mNone\u001b[39;00m\n\u001b[0;32m   1171\u001b[0m \u001b[38;5;66;03m# Update with the entry specific variables\u001b[39;00m\n",
      "\u001b[1;31mNoSectionError\u001b[0m: No section: 'blas'",
      "\nDuring handling of the above exception, another exception occurred:\n",
      "\u001b[1;31mKeyError\u001b[0m                                  Traceback (most recent call last)",
      "File \u001b[1;32m~\\anaconda3\\envs\\AgenticAI\\Lib\\site-packages\\aesara\\configparser.py:350\u001b[0m, in \u001b[0;36mConfigParam.__get__\u001b[1;34m(self, cls, type_, delete_key)\u001b[0m\n\u001b[0;32m    349\u001b[0m \u001b[38;5;28;01mtry\u001b[39;00m:\n\u001b[1;32m--> 350\u001b[0m     val_str \u001b[38;5;241m=\u001b[39m \u001b[38;5;28mcls\u001b[39m\u001b[38;5;241m.\u001b[39mfetch_val_for_key(\u001b[38;5;28mself\u001b[39m\u001b[38;5;241m.\u001b[39mname, delete_key\u001b[38;5;241m=\u001b[39mdelete_key)\n\u001b[0;32m    351\u001b[0m     \u001b[38;5;28mself\u001b[39m\u001b[38;5;241m.\u001b[39mis_default \u001b[38;5;241m=\u001b[39m \u001b[38;5;28;01mFalse\u001b[39;00m\n",
      "File \u001b[1;32m~\\anaconda3\\envs\\AgenticAI\\Lib\\site-packages\\aesara\\configparser.py:238\u001b[0m, in \u001b[0;36mAesaraConfigParser.fetch_val_for_key\u001b[1;34m(self, key, delete_key)\u001b[0m\n\u001b[0;32m    237\u001b[0m \u001b[38;5;28;01mexcept\u001b[39;00m (NoOptionError, NoSectionError):\n\u001b[1;32m--> 238\u001b[0m     \u001b[38;5;28;01mraise\u001b[39;00m \u001b[38;5;167;01mKeyError\u001b[39;00m(key)\n",
      "\u001b[1;31mKeyError\u001b[0m: 'blas__ldflags'",
      "\nDuring handling of the above exception, another exception occurred:\n",
      "\u001b[1;31mAttributeError\u001b[0m                            Traceback (most recent call last)",
      "File \u001b[1;32m~\\anaconda3\\envs\\AgenticAI\\Lib\\site-packages\\aesara\\link\\c\\cmodule.py:2726\u001b[0m, in \u001b[0;36mdefault_blas_ldflags\u001b[1;34m()\u001b[0m\n\u001b[0;32m   2725\u001b[0m \u001b[38;5;28;01mtry\u001b[39;00m:\n\u001b[1;32m-> 2726\u001b[0m     blas_info \u001b[38;5;241m=\u001b[39m np\u001b[38;5;241m.\u001b[39m__config__\u001b[38;5;241m.\u001b[39mget_info(\u001b[38;5;124m\"\u001b[39m\u001b[38;5;124mblas_opt\u001b[39m\u001b[38;5;124m\"\u001b[39m)\n\u001b[0;32m   2727\u001b[0m \u001b[38;5;28;01mexcept\u001b[39;00m \u001b[38;5;167;01mAttributeError\u001b[39;00m:\n",
      "\u001b[1;31mAttributeError\u001b[0m: module 'numpy.__config__' has no attribute 'get_info'",
      "\nDuring handling of the above exception, another exception occurred:\n",
      "\u001b[1;31mModuleNotFoundError\u001b[0m                       Traceback (most recent call last)",
      "Cell \u001b[1;32mIn[53], line 4\u001b[0m\n\u001b[0;32m      2\u001b[0m \u001b[38;5;28;01mimport\u001b[39;00m \u001b[38;5;21;01mnumpy\u001b[39;00m \u001b[38;5;28;01mas\u001b[39;00m \u001b[38;5;21;01mnp\u001b[39;00m\n\u001b[0;32m      3\u001b[0m \u001b[38;5;28;01mimport\u001b[39;00m \u001b[38;5;21;01mpymc\u001b[39;00m \u001b[38;5;28;01mas\u001b[39;00m \u001b[38;5;21;01mpm\u001b[39;00m\n\u001b[1;32m----> 4\u001b[0m \u001b[38;5;28;01mimport\u001b[39;00m \u001b[38;5;21;01maesara\u001b[39;00m\u001b[38;5;21;01m.\u001b[39;00m\u001b[38;5;21;01mtensor\u001b[39;00m \u001b[38;5;28;01mas\u001b[39;00m \u001b[38;5;21;01mat\u001b[39;00m\n\u001b[0;32m      6\u001b[0m \u001b[38;5;66;03m# Step 1: Preprocess Detection Matrix\u001b[39;00m\n\u001b[0;32m      7\u001b[0m \u001b[38;5;66;03m# Ensure detection matrix (y) is int and no missing values\u001b[39;00m\n\u001b[0;32m      8\u001b[0m y \u001b[38;5;241m=\u001b[39m detection_matrix\u001b[38;5;241m.\u001b[39mvalues\u001b[38;5;241m.\u001b[39mastype(\u001b[38;5;28mint\u001b[39m)\n",
      "File \u001b[1;32m~\\anaconda3\\envs\\AgenticAI\\Lib\\site-packages\\aesara\\__init__.py:120\u001b[0m\n\u001b[0;32m    116\u001b[0m     \u001b[38;5;28;01mreturn\u001b[39;00m as_tensor_variable(x, \u001b[38;5;241m*\u001b[39m\u001b[38;5;241m*\u001b[39mkwargs)\n\u001b[0;32m    119\u001b[0m \u001b[38;5;66;03m# isort: off\u001b[39;00m\n\u001b[1;32m--> 120\u001b[0m \u001b[38;5;28;01mfrom\u001b[39;00m \u001b[38;5;21;01maesara\u001b[39;00m \u001b[38;5;28;01mimport\u001b[39;00m scalar, tensor\n\u001b[0;32m    121\u001b[0m \u001b[38;5;28;01mfrom\u001b[39;00m \u001b[38;5;21;01maesara\u001b[39;00m\u001b[38;5;21;01m.\u001b[39;00m\u001b[38;5;21;01mcompile\u001b[39;00m \u001b[38;5;28;01mimport\u001b[39;00m (\n\u001b[0;32m    122\u001b[0m     In,\n\u001b[0;32m    123\u001b[0m     Mode,\n\u001b[1;32m   (...)\u001b[0m\n\u001b[0;32m    129\u001b[0m     shared,\n\u001b[0;32m    130\u001b[0m )\n\u001b[0;32m    131\u001b[0m \u001b[38;5;28;01mfrom\u001b[39;00m \u001b[38;5;21;01maesara\u001b[39;00m\u001b[38;5;21;01m.\u001b[39;00m\u001b[38;5;21;01mcompile\u001b[39;00m\u001b[38;5;21;01m.\u001b[39;00m\u001b[38;5;21;01mfunction\u001b[39;00m \u001b[38;5;28;01mimport\u001b[39;00m function, function_dump\n",
      "File \u001b[1;32m~\\anaconda3\\envs\\AgenticAI\\Lib\\site-packages\\aesara\\tensor\\__init__.py:106\u001b[0m\n\u001b[0;32m    104\u001b[0m \u001b[38;5;66;03m# adds shared-variable constructors\u001b[39;00m\n\u001b[0;32m    105\u001b[0m \u001b[38;5;28;01mfrom\u001b[39;00m \u001b[38;5;21;01maesara\u001b[39;00m\u001b[38;5;21;01m.\u001b[39;00m\u001b[38;5;21;01mtensor\u001b[39;00m \u001b[38;5;28;01mimport\u001b[39;00m sharedvar  \u001b[38;5;66;03m# noqa\u001b[39;00m\n\u001b[1;32m--> 106\u001b[0m \u001b[38;5;28;01mfrom\u001b[39;00m \u001b[38;5;21;01maesara\u001b[39;00m\u001b[38;5;21;01m.\u001b[39;00m\u001b[38;5;21;01mtensor\u001b[39;00m \u001b[38;5;28;01mimport\u001b[39;00m (  \u001b[38;5;66;03m# noqa\u001b[39;00m\n\u001b[0;32m    107\u001b[0m     blas,\n\u001b[0;32m    108\u001b[0m     blas_c,\n\u001b[0;32m    109\u001b[0m     blas_scipy,\n\u001b[0;32m    110\u001b[0m     xlogx,\n\u001b[0;32m    111\u001b[0m )\n\u001b[0;32m    112\u001b[0m \u001b[38;5;28;01mimport\u001b[39;00m \u001b[38;5;21;01maesara\u001b[39;00m\u001b[38;5;21;01m.\u001b[39;00m\u001b[38;5;21;01mtensor\u001b[39;00m\u001b[38;5;21;01m.\u001b[39;00m\u001b[38;5;21;01mrewriting\u001b[39;00m\n\u001b[0;32m    115\u001b[0m \u001b[38;5;66;03m# isort: off\u001b[39;00m\n",
      "File \u001b[1;32m~\\anaconda3\\envs\\AgenticAI\\Lib\\site-packages\\aesara\\tensor\\blas.py:162\u001b[0m\n\u001b[0;32m    160\u001b[0m \u001b[38;5;28;01mfrom\u001b[39;00m \u001b[38;5;21;01maesara\u001b[39;00m\u001b[38;5;21;01m.\u001b[39;00m\u001b[38;5;21;01mscalar\u001b[39;00m \u001b[38;5;28;01mimport\u001b[39;00m \u001b[38;5;28mbool\u001b[39m \u001b[38;5;28;01mas\u001b[39;00m bool_t\n\u001b[0;32m    161\u001b[0m \u001b[38;5;28;01mfrom\u001b[39;00m \u001b[38;5;21;01maesara\u001b[39;00m\u001b[38;5;21;01m.\u001b[39;00m\u001b[38;5;21;01mtensor\u001b[39;00m \u001b[38;5;28;01mimport\u001b[39;00m basic \u001b[38;5;28;01mas\u001b[39;00m at\n\u001b[1;32m--> 162\u001b[0m \u001b[38;5;28;01mfrom\u001b[39;00m \u001b[38;5;21;01maesara\u001b[39;00m\u001b[38;5;21;01m.\u001b[39;00m\u001b[38;5;21;01mtensor\u001b[39;00m\u001b[38;5;21;01m.\u001b[39;00m\u001b[38;5;21;01mblas_headers\u001b[39;00m \u001b[38;5;28;01mimport\u001b[39;00m blas_header_text, blas_header_version\n\u001b[0;32m    163\u001b[0m \u001b[38;5;28;01mfrom\u001b[39;00m \u001b[38;5;21;01maesara\u001b[39;00m\u001b[38;5;21;01m.\u001b[39;00m\u001b[38;5;21;01mtensor\u001b[39;00m\u001b[38;5;21;01m.\u001b[39;00m\u001b[38;5;21;01melemwise\u001b[39;00m \u001b[38;5;28;01mimport\u001b[39;00m DimShuffle, Elemwise\n\u001b[0;32m    164\u001b[0m \u001b[38;5;28;01mfrom\u001b[39;00m \u001b[38;5;21;01maesara\u001b[39;00m\u001b[38;5;21;01m.\u001b[39;00m\u001b[38;5;21;01mtensor\u001b[39;00m\u001b[38;5;21;01m.\u001b[39;00m\u001b[38;5;21;01mexceptions\u001b[39;00m \u001b[38;5;28;01mimport\u001b[39;00m NotScalarConstantError\n",
      "File \u001b[1;32m~\\anaconda3\\envs\\AgenticAI\\Lib\\site-packages\\aesara\\tensor\\blas_headers.py:1015\u001b[0m\n\u001b[0;32m    997\u001b[0m             header \u001b[38;5;241m+\u001b[39m\u001b[38;5;241m=\u001b[39m textwrap\u001b[38;5;241m.\u001b[39mdedent(\n\u001b[0;32m    998\u001b[0m \u001b[38;5;250m                \u001b[39m\u001b[38;5;124;03m\"\"\"\\\u001b[39;00m\n\u001b[0;32m    999\u001b[0m \u001b[38;5;124;03m                    static float sdot_(int* Nx, float* x, int* Sx, float* y, int* Sy)\u001b[39;00m\n\u001b[1;32m   (...)\u001b[0m\n\u001b[0;32m   1009\u001b[0m \u001b[38;5;124;03m                    \"\"\"\u001b[39;00m\n\u001b[0;32m   1010\u001b[0m             )\n\u001b[0;32m   1012\u001b[0m     \u001b[38;5;28;01mreturn\u001b[39;00m header \u001b[38;5;241m+\u001b[39m blas_code\n\u001b[1;32m-> 1015\u001b[0m \u001b[38;5;28;01mif\u001b[39;00m \u001b[38;5;129;01mnot\u001b[39;00m config\u001b[38;5;241m.\u001b[39mblas__ldflags:\n\u001b[0;32m   1016\u001b[0m     _logger\u001b[38;5;241m.\u001b[39mwarning(\u001b[38;5;124m\"\u001b[39m\u001b[38;5;124mUsing NumPy C-API based implementation for BLAS functions.\u001b[39m\u001b[38;5;124m\"\u001b[39m)\n\u001b[0;32m   1019\u001b[0m \u001b[38;5;28;01mdef\u001b[39;00m \u001b[38;5;21mmkl_threads_text\u001b[39m():\n",
      "File \u001b[1;32m~\\anaconda3\\envs\\AgenticAI\\Lib\\site-packages\\aesara\\configparser.py:354\u001b[0m, in \u001b[0;36mConfigParam.__get__\u001b[1;34m(self, cls, type_, delete_key)\u001b[0m\n\u001b[0;32m    352\u001b[0m \u001b[38;5;28;01mexcept\u001b[39;00m \u001b[38;5;167;01mKeyError\u001b[39;00m:\n\u001b[0;32m    353\u001b[0m     \u001b[38;5;28;01mif\u001b[39;00m \u001b[38;5;28mcallable\u001b[39m(\u001b[38;5;28mself\u001b[39m\u001b[38;5;241m.\u001b[39mdefault):\n\u001b[1;32m--> 354\u001b[0m         val_str \u001b[38;5;241m=\u001b[39m \u001b[38;5;28mself\u001b[39m\u001b[38;5;241m.\u001b[39mdefault()\n\u001b[0;32m    355\u001b[0m     \u001b[38;5;28;01melse\u001b[39;00m:\n\u001b[0;32m    356\u001b[0m         val_str \u001b[38;5;241m=\u001b[39m \u001b[38;5;28mself\u001b[39m\u001b[38;5;241m.\u001b[39mdefault\n",
      "File \u001b[1;32m~\\anaconda3\\envs\\AgenticAI\\Lib\\site-packages\\aesara\\link\\c\\cmodule.py:2728\u001b[0m, in \u001b[0;36mdefault_blas_ldflags\u001b[1;34m()\u001b[0m\n\u001b[0;32m   2726\u001b[0m     blas_info \u001b[38;5;241m=\u001b[39m np\u001b[38;5;241m.\u001b[39m__config__\u001b[38;5;241m.\u001b[39mget_info(\u001b[38;5;124m\"\u001b[39m\u001b[38;5;124mblas_opt\u001b[39m\u001b[38;5;124m\"\u001b[39m)\n\u001b[0;32m   2727\u001b[0m \u001b[38;5;28;01mexcept\u001b[39;00m \u001b[38;5;167;01mAttributeError\u001b[39;00m:\n\u001b[1;32m-> 2728\u001b[0m     \u001b[38;5;28;01mimport\u001b[39;00m \u001b[38;5;21;01mnumpy\u001b[39;00m\u001b[38;5;21;01m.\u001b[39;00m\u001b[38;5;21;01mdistutils\u001b[39;00m\u001b[38;5;21;01m.\u001b[39;00m\u001b[38;5;21;01msystem_info\u001b[39;00m\n\u001b[0;32m   2730\u001b[0m     blas_info \u001b[38;5;241m=\u001b[39m numpy\u001b[38;5;241m.\u001b[39mdistutils\u001b[38;5;241m.\u001b[39msystem_info\u001b[38;5;241m.\u001b[39mget_info(\u001b[38;5;124m\"\u001b[39m\u001b[38;5;124mblas_opt\u001b[39m\u001b[38;5;124m\"\u001b[39m)\n\u001b[0;32m   2732\u001b[0m \u001b[38;5;66;03m# If we are in a EPD installation, mkl is available\u001b[39;00m\n",
      "File \u001b[1;32m~\\anaconda3\\envs\\AgenticAI\\Lib\\site-packages\\numpy\\distutils\\system_info.py:200\u001b[0m\n\u001b[0;32m    195\u001b[0m \u001b[38;5;28;01mfrom\u001b[39;00m \u001b[38;5;21;01mnumpy\u001b[39;00m\u001b[38;5;21;01m.\u001b[39;00m\u001b[38;5;21;01mdistutils\u001b[39;00m\u001b[38;5;21;01m.\u001b[39;00m\u001b[38;5;21;01mexec_command\u001b[39;00m \u001b[38;5;28;01mimport\u001b[39;00m (\n\u001b[0;32m    196\u001b[0m     find_executable, filepath_from_subprocess_output,\n\u001b[0;32m    197\u001b[0m     )\n\u001b[0;32m    198\u001b[0m \u001b[38;5;28;01mfrom\u001b[39;00m \u001b[38;5;21;01mnumpy\u001b[39;00m\u001b[38;5;21;01m.\u001b[39;00m\u001b[38;5;21;01mdistutils\u001b[39;00m\u001b[38;5;21;01m.\u001b[39;00m\u001b[38;5;21;01mmisc_util\u001b[39;00m \u001b[38;5;28;01mimport\u001b[39;00m (is_sequence, is_string,\n\u001b[0;32m    199\u001b[0m                                        get_shared_lib_extension)\n\u001b[1;32m--> 200\u001b[0m \u001b[38;5;28;01mfrom\u001b[39;00m \u001b[38;5;21;01mnumpy\u001b[39;00m\u001b[38;5;21;01m.\u001b[39;00m\u001b[38;5;21;01mdistutils\u001b[39;00m\u001b[38;5;21;01m.\u001b[39;00m\u001b[38;5;21;01mcommand\u001b[39;00m\u001b[38;5;21;01m.\u001b[39;00m\u001b[38;5;21;01mconfig\u001b[39;00m \u001b[38;5;28;01mimport\u001b[39;00m config \u001b[38;5;28;01mas\u001b[39;00m cmd_config\n\u001b[0;32m    201\u001b[0m \u001b[38;5;28;01mfrom\u001b[39;00m \u001b[38;5;21;01mnumpy\u001b[39;00m\u001b[38;5;21;01m.\u001b[39;00m\u001b[38;5;21;01mdistutils\u001b[39;00m \u001b[38;5;28;01mimport\u001b[39;00m customized_ccompiler \u001b[38;5;28;01mas\u001b[39;00m _customized_ccompiler\n\u001b[0;32m    202\u001b[0m \u001b[38;5;28;01mfrom\u001b[39;00m \u001b[38;5;21;01mnumpy\u001b[39;00m\u001b[38;5;21;01m.\u001b[39;00m\u001b[38;5;21;01mdistutils\u001b[39;00m \u001b[38;5;28;01mimport\u001b[39;00m _shell_utils\n",
      "File \u001b[1;32m~\\anaconda3\\envs\\AgenticAI\\Lib\\site-packages\\numpy\\distutils\\command\\config.py:19\u001b[0m\n\u001b[0;32m     17\u001b[0m \u001b[38;5;28;01mimport\u001b[39;00m \u001b[38;5;21;01mdistutils\u001b[39;00m\n\u001b[0;32m     18\u001b[0m \u001b[38;5;28;01mfrom\u001b[39;00m \u001b[38;5;21;01mnumpy\u001b[39;00m\u001b[38;5;21;01m.\u001b[39;00m\u001b[38;5;21;01mdistutils\u001b[39;00m\u001b[38;5;21;01m.\u001b[39;00m\u001b[38;5;21;01mexec_command\u001b[39;00m \u001b[38;5;28;01mimport\u001b[39;00m filepath_from_subprocess_output\n\u001b[1;32m---> 19\u001b[0m \u001b[38;5;28;01mfrom\u001b[39;00m \u001b[38;5;21;01mnumpy\u001b[39;00m\u001b[38;5;21;01m.\u001b[39;00m\u001b[38;5;21;01mdistutils\u001b[39;00m\u001b[38;5;21;01m.\u001b[39;00m\u001b[38;5;21;01mmingw32ccompiler\u001b[39;00m \u001b[38;5;28;01mimport\u001b[39;00m generate_manifest\n\u001b[0;32m     20\u001b[0m \u001b[38;5;28;01mfrom\u001b[39;00m \u001b[38;5;21;01mnumpy\u001b[39;00m\u001b[38;5;21;01m.\u001b[39;00m\u001b[38;5;21;01mdistutils\u001b[39;00m\u001b[38;5;21;01m.\u001b[39;00m\u001b[38;5;21;01mcommand\u001b[39;00m\u001b[38;5;21;01m.\u001b[39;00m\u001b[38;5;21;01mautodist\u001b[39;00m \u001b[38;5;28;01mimport\u001b[39;00m (check_gcc_function_attribute,\n\u001b[0;32m     21\u001b[0m                                               check_gcc_function_attribute_with_intrinsics,\n\u001b[0;32m     22\u001b[0m                                               check_gcc_variable_attribute,\n\u001b[1;32m   (...)\u001b[0m\n\u001b[0;32m     25\u001b[0m                                               check_restrict,\n\u001b[0;32m     26\u001b[0m                                               check_compiler_gcc)\n\u001b[0;32m     28\u001b[0m LANG_EXT[\u001b[38;5;124m'\u001b[39m\u001b[38;5;124mf77\u001b[39m\u001b[38;5;124m'\u001b[39m] \u001b[38;5;241m=\u001b[39m \u001b[38;5;124m'\u001b[39m\u001b[38;5;124m.f\u001b[39m\u001b[38;5;124m'\u001b[39m\n",
      "File \u001b[1;32m~\\anaconda3\\envs\\AgenticAI\\Lib\\site-packages\\numpy\\distutils\\mingw32ccompiler.py:27\u001b[0m\n\u001b[0;32m     25\u001b[0m \u001b[38;5;28;01mimport\u001b[39;00m \u001b[38;5;21;01mdistutils\u001b[39;00m\u001b[38;5;21;01m.\u001b[39;00m\u001b[38;5;21;01mcygwinccompiler\u001b[39;00m\n\u001b[0;32m     26\u001b[0m \u001b[38;5;28;01mfrom\u001b[39;00m \u001b[38;5;21;01mdistutils\u001b[39;00m\u001b[38;5;21;01m.\u001b[39;00m\u001b[38;5;21;01munixccompiler\u001b[39;00m \u001b[38;5;28;01mimport\u001b[39;00m UnixCCompiler\n\u001b[1;32m---> 27\u001b[0m \u001b[38;5;28;01mfrom\u001b[39;00m \u001b[38;5;21;01mdistutils\u001b[39;00m\u001b[38;5;21;01m.\u001b[39;00m\u001b[38;5;21;01mmsvccompiler\u001b[39;00m \u001b[38;5;28;01mimport\u001b[39;00m get_build_version \u001b[38;5;28;01mas\u001b[39;00m get_build_msvc_version\n\u001b[0;32m     28\u001b[0m \u001b[38;5;28;01mfrom\u001b[39;00m \u001b[38;5;21;01mdistutils\u001b[39;00m\u001b[38;5;21;01m.\u001b[39;00m\u001b[38;5;21;01merrors\u001b[39;00m \u001b[38;5;28;01mimport\u001b[39;00m UnknownFileError\n\u001b[0;32m     29\u001b[0m \u001b[38;5;28;01mfrom\u001b[39;00m \u001b[38;5;21;01mnumpy\u001b[39;00m\u001b[38;5;21;01m.\u001b[39;00m\u001b[38;5;21;01mdistutils\u001b[39;00m\u001b[38;5;21;01m.\u001b[39;00m\u001b[38;5;21;01mmisc_util\u001b[39;00m \u001b[38;5;28;01mimport\u001b[39;00m (msvc_runtime_library,\n\u001b[0;32m     30\u001b[0m                                        msvc_runtime_version,\n\u001b[0;32m     31\u001b[0m                                        msvc_runtime_major,\n\u001b[0;32m     32\u001b[0m                                        get_build_architecture)\n",
      "\u001b[1;31mModuleNotFoundError\u001b[0m: No module named 'distutils.msvccompiler'"
     ]
    }
   ],
   "source": [
    "import pandas as pd\n",
    "import numpy as np\n",
    "import pymc as pm\n",
    "import aesara.tensor as at\n",
    "\n",
    "# Step 1: Preprocess Detection Matrix\n",
    "# Ensure detection matrix (y) is int and no missing values\n",
    "y = detection_matrix.values.astype(int)\n",
    "n_sites, n_surveys = y.shape\n",
    "\n",
    "# Step 2: Create Covariate Matrix\n",
    "# Group site-level environmental covariates\n",
    "habitat_mode = df.groupby('Cluster_Agglo')['Habitat'].agg(lambda x: x.mode().iloc[0])\n",
    "group_size_mean = df.groupby('Cluster_Agglo')['Group_Size'].mean()\n",
    "year_median = df.groupby('Cluster_Agglo')['Year'].median()\n",
    "\n",
    "# Encode habitat as dummy variables\n",
    "X = pd.get_dummies(habitat_mode, drop_first=True)\n",
    "X['Group_Size'] = group_size_mean\n",
    "X['Year'] = year_median\n",
    "X = X.loc[detection_matrix.index]  # Ensure alignment\n",
    "\n",
    "# Step 3: Clean and Standardize\n",
    "X_std = X.fillna(0).replace([np.inf, -np.inf], 0)\n",
    "X_std = (X_std - X_std.mean()) / X_std.std()\n",
    "X_matrix = X_std.to_numpy()\n",
    "\n",
    "# Print for verification\n",
    "print(\"X shape:\", X_matrix.shape)\n",
    "print(\"First few rows:\\n\", X_std.head())\n",
    "\n",
    "# Step 4: Build Model\n",
    "with pm.Model() as cov_model:\n",
    "    # Priors for occupancy covariates\n",
    "    beta = pm.Normal(\"beta\", mu=0, sigma=1, shape=X_matrix.shape[1])\n",
    "    alpha = pm.Normal(\"alpha\", mu=0, sigma=1)\n",
    "\n",
    "    # Linear predictor for occupancy (psi)\n",
    "    psi_logit = alpha + at.dot(X_matrix, beta)\n",
    "    psi = pm.Deterministic(\"psi\", pm.math.sigmoid(psi_logit))\n",
    "\n",
    "    # Detection probability\n",
    "    p = pm.Beta(\"p\", alpha=1, beta=1)\n",
    "\n",
    "    # Latent occupancy state\n",
    "    z = pm.Bernoulli(\"z\", p=psi, shape=n_sites)\n",
    "\n",
    "    # Observation model (conditional on presence and detection)\n",
    "    y_obs = pm.Bernoulli(\"y_obs\", p=z[:, None] * p, observed=y)\n",
    "\n",
    "    # Sampling: Use 1 core for clearer errors\n",
    "    cov_trace = pm.sample(\n",
    "        draws=2000,\n",
    "        tune=1000,\n",
    "        cores=1,\n",
    "        return_inferencedata=True,\n",
    "        target_accept=0.95,\n",
    "    )\n"
   ]
  }
 ],
 "metadata": {
  "kernelspec": {
   "display_name": "Python 3 (ipykernel)",
   "language": "python",
   "name": "python3"
  },
  "language_info": {
   "codemirror_mode": {
    "name": "ipython",
    "version": 3
   },
   "file_extension": ".py",
   "mimetype": "text/x-python",
   "name": "python",
   "nbconvert_exporter": "python",
   "pygments_lexer": "ipython3",
   "version": "3.11.11"
  }
 },
 "nbformat": 4,
 "nbformat_minor": 5
}

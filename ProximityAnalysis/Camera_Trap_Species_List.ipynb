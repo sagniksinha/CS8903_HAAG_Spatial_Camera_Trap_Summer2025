{
 "cells": [
  {
   "cell_type": "markdown",
   "id": "be1da960",
   "metadata": {},
   "source": [
    "# Create Species List for Each Camera Trap Array\n",
    "\n",
    "Species List will have following columns:\n",
    "- Site Name (Array Name)\n",
    "- Year\n",
    "- Habitat Types \n",
    "- Mean Longitude \n",
    "- Mean Latitude \n",
    "- A comma separated list of species names found at the giveb site "
   ]
  },
  {
   "cell_type": "code",
   "execution_count": 1,
   "id": "5ae0addc-6692-42bc-ae6d-58405061360d",
   "metadata": {},
   "outputs": [],
   "source": [
    "import pandas as pd \n",
    "import numpy as np \n",
    "import warnings \n",
    "import ast"
   ]
  },
  {
   "cell_type": "code",
   "execution_count": 2,
   "id": "91c4dea2-3c6d-4767-b351-e936ce2c769f",
   "metadata": {},
   "outputs": [],
   "source": [
    "warnings.filterwarnings('ignore')"
   ]
  },
  {
   "cell_type": "code",
   "execution_count": 3,
   "id": "b500fabe-034b-489e-80a7-cccd8820ca05",
   "metadata": {},
   "outputs": [],
   "source": [
    "data_dir = r'/Users/neelima/Documents/ML_Projects/data'\n",
    "out_dir = r'/Users/neelima/Documents/ML_Projects/output'"
   ]
  },
  {
   "cell_type": "code",
   "execution_count": 4,
   "id": "d021ffc4-6a39-40a0-8dda-3d727a81a755",
   "metadata": {},
   "outputs": [
    {
     "data": {
      "text/plain": [
       "(772478, 30)"
      ]
     },
     "execution_count": 4,
     "metadata": {},
     "output_type": "execute_result"
    }
   ],
   "source": [
    "cleaned_df = pd.read_csv(data_dir + r'/Data_Clustered_Cleaned_50km_WithSciName.csv')\n",
    "cleaned_df.shape"
   ]
  },
  {
   "cell_type": "code",
   "execution_count": 5,
   "id": "951fdfa8-d3f4-49bf-9317-9fb3338f986f",
   "metadata": {},
   "outputs": [
    {
     "data": {
      "text/plain": [
       "Index(['Year', 'Project', 'Camera_Trap_Array', 'Deployment_ID', 'Sequence_ID',\n",
       "       'Start_Time', 'End_Time', 'Class', 'Order', 'Family', 'Genus',\n",
       "       'Species', 'Common_Name', 'Age', 'Sex', 'Group_Size', 'Site_Name',\n",
       "       'Start_Date', 'End_Date', 'Survey_Nights', 'Latitude', 'Longitude',\n",
       "       'Habitat', 'Development_Level', 'Feature_Type', 'Cluster_Agglo',\n",
       "       'Centroid_Latitude', 'Centroid_Longitude', 'City_State', 'Sci_Name'],\n",
       "      dtype='object')"
      ]
     },
     "execution_count": 5,
     "metadata": {},
     "output_type": "execute_result"
    }
   ],
   "source": [
    "cleaned_df.columns"
   ]
  },
  {
   "cell_type": "code",
   "execution_count": 6,
   "id": "431b9dfd-9930-4860-a571-3d353a982e89",
   "metadata": {},
   "outputs": [
    {
     "data": {
      "text/plain": [
       "(591, 5)"
      ]
     },
     "execution_count": 6,
     "metadata": {},
     "output_type": "execute_result"
    }
   ],
   "source": [
    "array_proximity_with_year_df = pd.read_csv(out_dir + r'/camera_array_5km_proximity_sites.csv')\n",
    "\n",
    "array_proximity_with_year_df.shape"
   ]
  },
  {
   "cell_type": "code",
   "execution_count": 7,
   "id": "ce4d8793",
   "metadata": {},
   "outputs": [
    {
     "data": {
      "text/html": [
       "<div>\n",
       "<style scoped>\n",
       "    .dataframe tbody tr th:only-of-type {\n",
       "        vertical-align: middle;\n",
       "    }\n",
       "\n",
       "    .dataframe tbody tr th {\n",
       "        vertical-align: top;\n",
       "    }\n",
       "\n",
       "    .dataframe thead th {\n",
       "        text-align: right;\n",
       "    }\n",
       "</style>\n",
       "<table border=\"1\" class=\"dataframe\">\n",
       "  <thead>\n",
       "    <tr style=\"text-align: right;\">\n",
       "      <th></th>\n",
       "      <th>Camera_Trap_Array</th>\n",
       "      <th>Year</th>\n",
       "      <th>Mean_Latitude</th>\n",
       "      <th>Mean_Longitude</th>\n",
       "      <th>Proximity_List</th>\n",
       "    </tr>\n",
       "  </thead>\n",
       "  <tbody>\n",
       "    <tr>\n",
       "      <th>0</th>\n",
       "      <td>ARNWR</td>\n",
       "      <td>2020</td>\n",
       "      <td>35.8094</td>\n",
       "      <td>-75.9057</td>\n",
       "      <td>{'NC_Forest_Alligator_River_NWR_20_02', 'NC_Fo...</td>\n",
       "    </tr>\n",
       "    <tr>\n",
       "      <th>1</th>\n",
       "      <td>ARNWR</td>\n",
       "      <td>2021</td>\n",
       "      <td>35.8236</td>\n",
       "      <td>-75.8931</td>\n",
       "      <td>{'NC_Wetland_ARNWR_21_dep_2', 'NC_Wetland_ARNW...</td>\n",
       "    </tr>\n",
       "    <tr>\n",
       "      <th>2</th>\n",
       "      <td>ARNWR</td>\n",
       "      <td>2022</td>\n",
       "      <td>35.8263</td>\n",
       "      <td>-75.8911</td>\n",
       "      <td>{'NC_Wetland_ARNWR_22_Cam15', 'NC_Wetland_ARNW...</td>\n",
       "    </tr>\n",
       "    <tr>\n",
       "      <th>3</th>\n",
       "      <td>AandM</td>\n",
       "      <td>2022</td>\n",
       "      <td>26.2209</td>\n",
       "      <td>-97.4273</td>\n",
       "      <td>{'TX_Shrubland_A&amp;M_CCR004', 'TX_Shrubland_A&amp;M_...</td>\n",
       "    </tr>\n",
       "    <tr>\n",
       "      <th>4</th>\n",
       "      <td>Abilene</td>\n",
       "      <td>2019</td>\n",
       "      <td>32.2393</td>\n",
       "      <td>-99.8829</td>\n",
       "      <td>{'TX_Grassland_Abilene_8', 'TX_Grassland_Abile...</td>\n",
       "    </tr>\n",
       "  </tbody>\n",
       "</table>\n",
       "</div>"
      ],
      "text/plain": [
       "  Camera_Trap_Array  Year  Mean_Latitude  Mean_Longitude  \\\n",
       "0             ARNWR  2020        35.8094        -75.9057   \n",
       "1             ARNWR  2021        35.8236        -75.8931   \n",
       "2             ARNWR  2022        35.8263        -75.8911   \n",
       "3             AandM  2022        26.2209        -97.4273   \n",
       "4           Abilene  2019        32.2393        -99.8829   \n",
       "\n",
       "                                      Proximity_List  \n",
       "0  {'NC_Forest_Alligator_River_NWR_20_02', 'NC_Fo...  \n",
       "1  {'NC_Wetland_ARNWR_21_dep_2', 'NC_Wetland_ARNW...  \n",
       "2  {'NC_Wetland_ARNWR_22_Cam15', 'NC_Wetland_ARNW...  \n",
       "3  {'TX_Shrubland_A&M_CCR004', 'TX_Shrubland_A&M_...  \n",
       "4  {'TX_Grassland_Abilene_8', 'TX_Grassland_Abile...  "
      ]
     },
     "execution_count": 7,
     "metadata": {},
     "output_type": "execute_result"
    }
   ],
   "source": [
    "array_proximity_with_year_df.head()"
   ]
  },
  {
   "cell_type": "code",
   "execution_count": 8,
   "id": "df3b882a-80a0-4885-916c-790c4931b9d8",
   "metadata": {},
   "outputs": [
    {
     "data": {
      "text/plain": [
       "Index(['Camera_Trap_Array', 'Year', 'Mean_Latitude', 'Mean_Longitude',\n",
       "       'Proximity_List'],\n",
       "      dtype='object')"
      ]
     },
     "execution_count": 8,
     "metadata": {},
     "output_type": "execute_result"
    }
   ],
   "source": [
    "array_proximity_with_year_df.columns"
   ]
  },
  {
   "cell_type": "code",
   "execution_count": 9,
   "id": "0720f198-3230-4fb7-a154-c06d95c887c7",
   "metadata": {},
   "outputs": [
    {
     "data": {
      "text/plain": [
       "262"
      ]
     },
     "execution_count": 9,
     "metadata": {},
     "output_type": "execute_result"
    }
   ],
   "source": [
    "# Unique Camera trap array elements count \n",
    "array_proximity_with_year_df['Camera_Trap_Array'].nunique()"
   ]
  },
  {
   "cell_type": "code",
   "execution_count": 10,
   "id": "2cb67b6b",
   "metadata": {},
   "outputs": [
    {
     "data": {
      "text/html": [
       "<div>\n",
       "<style scoped>\n",
       "    .dataframe tbody tr th:only-of-type {\n",
       "        vertical-align: middle;\n",
       "    }\n",
       "\n",
       "    .dataframe tbody tr th {\n",
       "        vertical-align: top;\n",
       "    }\n",
       "\n",
       "    .dataframe thead th {\n",
       "        text-align: right;\n",
       "    }\n",
       "</style>\n",
       "<table border=\"1\" class=\"dataframe\">\n",
       "  <thead>\n",
       "    <tr style=\"text-align: right;\">\n",
       "      <th></th>\n",
       "      <th>Camera_Trap_Array</th>\n",
       "      <th>Habitat</th>\n",
       "    </tr>\n",
       "  </thead>\n",
       "  <tbody>\n",
       "    <tr>\n",
       "      <th>0</th>\n",
       "      <td>ARNWR</td>\n",
       "      <td>Wetland</td>\n",
       "    </tr>\n",
       "    <tr>\n",
       "      <th>1</th>\n",
       "      <td>AandM</td>\n",
       "      <td>Forest</td>\n",
       "    </tr>\n",
       "    <tr>\n",
       "      <th>2</th>\n",
       "      <td>Abilene</td>\n",
       "      <td>Grassland</td>\n",
       "    </tr>\n",
       "    <tr>\n",
       "      <th>3</th>\n",
       "      <td>AbitaFlats</td>\n",
       "      <td>Forest</td>\n",
       "    </tr>\n",
       "    <tr>\n",
       "      <th>4</th>\n",
       "      <td>Afognak</td>\n",
       "      <td>Forest</td>\n",
       "    </tr>\n",
       "  </tbody>\n",
       "</table>\n",
       "</div>"
      ],
      "text/plain": [
       "  Camera_Trap_Array    Habitat\n",
       "0             ARNWR    Wetland\n",
       "1             AandM     Forest\n",
       "2           Abilene  Grassland\n",
       "3        AbitaFlats     Forest\n",
       "4           Afognak     Forest"
      ]
     },
     "execution_count": 10,
     "metadata": {},
     "output_type": "execute_result"
    }
   ],
   "source": [
    "# array habitats from csv file \n",
    "habitat_df = pd.read_csv(out_dir + r'/array_habitats.csv')\n",
    "habitat_df.head()"
   ]
  },
  {
   "cell_type": "markdown",
   "id": "d3508afe-56f2-46eb-a283-78956a4a65d0",
   "metadata": {},
   "source": [
    "### Calculate Species Richness "
   ]
  },
  {
   "cell_type": "code",
   "execution_count": null,
   "id": "b5560a92",
   "metadata": {},
   "outputs": [],
   "source": [
    "def parse_proximity_list(s):\n",
    "        if isinstance(s, str):\n",
    "            try:\n",
    "                parsed = ast.literal_eval(s)\n",
    "                return set(i.strip() for i in parsed if isinstance(i, str))\n",
    "            except:\n",
    "                return set()\n",
    "        return set()\n",
    "\n",
    "proximity_df = array_proximity_with_year_df.copy()\n",
    "proximity_df['Proximity_List'] = proximity_df['Proximity_List'].apply(parse_proximity_list)\n",
    "#proximity_df['Year'] = proximity_df['Year'].astype(int)\n",
    "    \n",
    "\n",
    "grouped = proximity_df.groupby('Camera_Trap_Array').agg({\n",
    "    'Proximity_List': lambda lists: set().union(*lists),\n",
    "    'Mean_Latitude': 'mean',\n",
    "    'Mean_Longitude': 'mean'\n",
    "    }).reset_index()\n",
    "\n",
    "richness_records = []\n",
    "\n",
    "for _, row in proximity_df.iterrows():\n",
    "    array_id = row['Camera_Trap_Array']\n",
    "    deployment_ids = row['Proximity_List']\n",
    "    mean_lat = row['Mean_Latitude']\n",
    "    mean_lon = row['Mean_Longitude']\n",
    "    \n",
    "\n",
    "    # Filter merged_df for matching deployments and year\n",
    "    subset = cleaned_df[\n",
    "        (cleaned_df['Deployment_ID'].isin(deployment_ids)) \n",
    "    ]\n",
    "\n",
    "    unique_species = subset['Species'].nunique()\n",
    "    species_list = subset['Species'].unique().tolist()\n",
    "    species_list.sort() \n",
    "    \n",
    "    # get list of unique habitats for this array from habitat_df\n",
    "    unique_habitats = habitat_df[habitat_df['Camera_Trap_Array'] == array_id]['Habitat'].values\n",
    "    \n",
    "    unique_habitats = list(unique_habitats)\n",
    "    \n",
    "    unique_habitats.sort()\n",
    "\n",
    "    richness_records.append({\n",
    "        'Site_Name': array_id,\n",
    "        'Year': row['Year'],\n",
    "        'Habitat_Types' : ', '.join(unique_habitats),\n",
    "        'Mean_Latitude': round(mean_lat, 4),\n",
    "        'Mean_Longitude': round(mean_lon, 4),\n",
    "        'Species_List': ', '.join(species_list),\n",
    "        })\n",
    "\n",
    "result_df = pd.DataFrame(richness_records)"
   ]
  },
  {
   "cell_type": "code",
   "execution_count": 16,
   "id": "76c56be6",
   "metadata": {},
   "outputs": [
    {
     "data": {
      "text/html": [
       "<div>\n",
       "<style scoped>\n",
       "    .dataframe tbody tr th:only-of-type {\n",
       "        vertical-align: middle;\n",
       "    }\n",
       "\n",
       "    .dataframe tbody tr th {\n",
       "        vertical-align: top;\n",
       "    }\n",
       "\n",
       "    .dataframe thead th {\n",
       "        text-align: right;\n",
       "    }\n",
       "</style>\n",
       "<table border=\"1\" class=\"dataframe\">\n",
       "  <thead>\n",
       "    <tr style=\"text-align: right;\">\n",
       "      <th></th>\n",
       "      <th>Site_Name</th>\n",
       "      <th>Year</th>\n",
       "      <th>Habitat_Types</th>\n",
       "      <th>Mean_Latitude</th>\n",
       "      <th>Mean_Longitude</th>\n",
       "      <th>Species_List</th>\n",
       "    </tr>\n",
       "  </thead>\n",
       "  <tbody>\n",
       "    <tr>\n",
       "      <th>0</th>\n",
       "      <td>ARNWR</td>\n",
       "      <td>2020</td>\n",
       "      <td>Wetland</td>\n",
       "      <td>35.8094</td>\n",
       "      <td>-75.9057</td>\n",
       "      <td>americanus, canadensis, carolinensis, latrans,...</td>\n",
       "    </tr>\n",
       "    <tr>\n",
       "      <th>1</th>\n",
       "      <td>ARNWR</td>\n",
       "      <td>2021</td>\n",
       "      <td>Wetland</td>\n",
       "      <td>35.8236</td>\n",
       "      <td>-75.8931</td>\n",
       "      <td>americanus, caballus, canadensis, carolinensis...</td>\n",
       "    </tr>\n",
       "    <tr>\n",
       "      <th>2</th>\n",
       "      <td>ARNWR</td>\n",
       "      <td>2022</td>\n",
       "      <td>Wetland</td>\n",
       "      <td>35.8263</td>\n",
       "      <td>-75.8911</td>\n",
       "      <td>americanus, caballus, canadensis, carolinensis...</td>\n",
       "    </tr>\n",
       "    <tr>\n",
       "      <th>3</th>\n",
       "      <td>AandM</td>\n",
       "      <td>2022</td>\n",
       "      <td>Forest</td>\n",
       "      <td>26.2209</td>\n",
       "      <td>-97.4273</td>\n",
       "      <td>californicus, familiaris, latrans, lotor, meph...</td>\n",
       "    </tr>\n",
       "    <tr>\n",
       "      <th>4</th>\n",
       "      <td>Abilene</td>\n",
       "      <td>2019</td>\n",
       "      <td>Grassland</td>\n",
       "      <td>32.2393</td>\n",
       "      <td>-99.8829</td>\n",
       "      <td>catus, cinereoargenteus, latrans, lotor, mephi...</td>\n",
       "    </tr>\n",
       "  </tbody>\n",
       "</table>\n",
       "</div>"
      ],
      "text/plain": [
       "  Site_Name  Year Habitat_Types  Mean_Latitude  Mean_Longitude  \\\n",
       "0     ARNWR  2020       Wetland        35.8094        -75.9057   \n",
       "1     ARNWR  2021       Wetland        35.8236        -75.8931   \n",
       "2     ARNWR  2022       Wetland        35.8263        -75.8911   \n",
       "3     AandM  2022        Forest        26.2209        -97.4273   \n",
       "4   Abilene  2019     Grassland        32.2393        -99.8829   \n",
       "\n",
       "                                        Species_List  \n",
       "0  americanus, canadensis, carolinensis, latrans,...  \n",
       "1  americanus, caballus, canadensis, carolinensis...  \n",
       "2  americanus, caballus, canadensis, carolinensis...  \n",
       "3  californicus, familiaris, latrans, lotor, meph...  \n",
       "4  catus, cinereoargenteus, latrans, lotor, mephi...  "
      ]
     },
     "execution_count": 16,
     "metadata": {},
     "output_type": "execute_result"
    }
   ],
   "source": [
    "result_df = result_df.sort_values(by=['Site_Name', 'Year'])\n",
    "result_df.head()"
   ]
  },
  {
   "cell_type": "code",
   "execution_count": 17,
   "id": "08b99947",
   "metadata": {},
   "outputs": [],
   "source": [
    "output_path = out_dir + r'/species_list/species_list_by_sites.csv'\n",
    "result_df.to_csv(output_path, index=False)"
   ]
  },
  {
   "cell_type": "code",
   "execution_count": null,
   "id": "718dda85",
   "metadata": {},
   "outputs": [],
   "source": []
  }
 ],
 "metadata": {
  "kernelspec": {
   "display_name": "base",
   "language": "python",
   "name": "python3"
  },
  "language_info": {
   "codemirror_mode": {
    "name": "ipython",
    "version": 3
   },
   "file_extension": ".py",
   "mimetype": "text/x-python",
   "name": "python",
   "nbconvert_exporter": "python",
   "pygments_lexer": "ipython3",
   "version": "3.12.2"
  }
 },
 "nbformat": 4,
 "nbformat_minor": 5
}

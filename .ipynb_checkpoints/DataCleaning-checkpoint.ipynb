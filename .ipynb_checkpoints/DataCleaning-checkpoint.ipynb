{
 "cells": [
  {
   "cell_type": "code",
   "execution_count": 1,
   "id": "4b58084c-e859-4dc4-aea1-5a87006b4189",
   "metadata": {},
   "outputs": [],
   "source": [
    "import pandas as pd\n",
    "import os"
   ]
  },
  {
   "cell_type": "code",
   "execution_count": 2,
   "id": "c9e9aacc-4cf3-4090-ae9a-30f9d7ce068e",
   "metadata": {},
   "outputs": [],
   "source": [
    "save_dir = r'C:\\Users\\sagni\\Documents\\Personal Files\\Research\\doi_10_5061_dryad_k0p2ngfhn__v20250410'\n",
    "os.makedirs(save_dir, exist_ok=True)"
   ]
  },
  {
   "cell_type": "code",
   "execution_count": 3,
   "id": "9a48a13d-658e-46cd-9732-a4ddfa90238c",
   "metadata": {},
   "outputs": [
    {
     "name": "stderr",
     "output_type": "stream",
     "text": [
      "C:\\Users\\sagni\\AppData\\Local\\Temp\\ipykernel_22576\\309312439.py:9: DtypeWarning: Columns (4,15) have mixed types. Specify dtype option on import or set low_memory=False.\n",
      "  sequences_df = pd.read_csv(sequences_path)\n"
     ]
    },
    {
     "name": "stdout",
     "output_type": "stream",
     "text": [
      "Number of records in sequences_df: 987979\n",
      "Number of records in deployments_df: 9679\n"
     ]
    }
   ],
   "source": [
    "# Define the directory path\n",
    "data_dir = save_dir\n",
    "\n",
    "# Define file paths\n",
    "sequences_path = data_dir + r'\\ssusa_finalsequences.csv'\n",
    "deployments_path = data_dir + r'\\ssusa_finaldeployments.csv'\n",
    "\n",
    "# Load the CSV files\n",
    "sequences_df = pd.read_csv(sequences_path)\n",
    "print(f\"Number of records in sequences_df: {len(sequences_df)}\")\n",
    "deployments_df = pd.read_csv(deployments_path)\n",
    "print(f\"Number of records in deployments_df: {len(deployments_df)}\")"
   ]
  },
  {
   "cell_type": "code",
   "execution_count": 4,
   "id": "d58e49b9-b75a-486c-a16f-759881d25ac1",
   "metadata": {},
   "outputs": [
    {
     "name": "stdout",
     "output_type": "stream",
     "text": [
      "Number of records deleted: 96032\n",
      "Final number of records: 891947\n"
     ]
    }
   ],
   "source": [
    "# List of required columns\n",
    "required_cols = ['Class', 'Order', 'Family', 'Genus', 'Species', 'Common_Name']\n",
    "\n",
    "# Replace single space strings with actual NaN\n",
    "sequences_df[required_cols] = sequences_df[required_cols].replace(' ', pd.NA)\n",
    "\n",
    "# Count before filtering\n",
    "initial_count = len(sequences_df)\n",
    "\n",
    "# Drop rows with any missing values in required columns\n",
    "sequences_df = sequences_df.dropna(subset=required_cols)\n",
    "\n",
    "# Count after filtering\n",
    "final_count = len(sequences_df)\n",
    "deleted_count = initial_count - final_count\n",
    "\n",
    "# Print results\n",
    "print(f\"Number of records deleted: {deleted_count}\")\n",
    "print(f\"Final number of records: {final_count}\")"
   ]
  },
  {
   "cell_type": "code",
   "execution_count": 5,
   "id": "1cb0d3d9-aa50-435b-81f2-976740bea28e",
   "metadata": {},
   "outputs": [
    {
     "name": "stdout",
     "output_type": "stream",
     "text": [
      "{'Camera_Trap_Array', 'Deployment_ID', 'Year', 'Project'}\n"
     ]
    }
   ],
   "source": [
    "# Get all common columns\n",
    "common_cols = set(sequences_df.columns).intersection(deployments_df.columns)\n",
    "print(common_cols)"
   ]
  },
  {
   "cell_type": "code",
   "execution_count": 6,
   "id": "9ff2d6c4-494b-4343-9c46-c32ef96a789c",
   "metadata": {},
   "outputs": [
    {
     "name": "stdout",
     "output_type": "stream",
     "text": [
      "Number of records in merged_df: 885087\n"
     ]
    }
   ],
   "source": [
    "# Merge on both 'Deployment_ID' and 'Year'\n",
    "merged_df = pd.merge(\n",
    "    sequences_df, \n",
    "    deployments_df, \n",
    "    on=list(common_cols), \n",
    "    how='inner'\n",
    ")\n",
    "\n",
    "merged_df = merged_df.drop_duplicates()\n",
    "\n",
    "print(f\"Number of records in merged_df: {len(merged_df)}\")\n"
   ]
  },
  {
   "cell_type": "code",
   "execution_count": null,
   "id": "96a4f485-1c8b-4b11-914e-824c181963ce",
   "metadata": {},
   "outputs": [],
   "source": [
    "# Columns to convert to Proper Case\n",
    "prop_case_cols = [\n",
    "    'Class', 'Order', 'Family', 'Genus', 'Species', 'Habitat', \n",
    "    'Development_Level', 'Feature_Type', 'Common_Name', \n",
    "    'Site_Name', 'Age', 'Sex'\n",
    "]\n",
    "\n",
    "# First, replace blank or whitespace-only strings with NaN for Age, Sex, and Group_Size\n",
    "merged_df[['Age', 'Sex', 'Group_Size']] = merged_df[['Age', 'Sex', 'Group_Size']].replace(r'^\\s*$', pd.NA, regex=True)\n",
    "\n",
    "# Group_Size: Replace missing with 0 and convert to numeric\n",
    "merged_df['Group_Size'] = merged_df['Group_Size'].fillna(0)\n",
    "merged_df['Group_Size'] = pd.to_numeric(merged_df['Group_Size'], errors='coerce').fillna(0).astype(int)\n",
    "\n",
    "# Age and Sex: Replace missing with 'Unknown'\n",
    "merged_df['Age'] = merged_df['Age'].fillna('Unknown')\n",
    "merged_df['Sex'] = merged_df['Sex'].fillna('Unknown')\n",
    "\n",
    "# Now apply proper case to selected columns\n",
    "for col in prop_case_cols:\n",
    "    merged_df[col] = merged_df[col].str.lower()"
   ]
  },
  {
   "cell_type": "code",
   "execution_count": null,
   "id": "c458ec4f-a30f-42a3-9fa9-f8218a3e7eaf",
   "metadata": {},
   "outputs": [],
   "source": [
    "# Optional: Save merged result to a new CSV\n",
    "merged_df.to_csv(data_dir + r'\\merged_snapshot_usa.csv', index=False)"
   ]
  },
  {
   "cell_type": "code",
   "execution_count": null,
   "id": "d36dc3b4-93be-464c-880a-bb0a1df6238f",
   "metadata": {},
   "outputs": [],
   "source": [
    "# Frequency distribution of 'Age' in percentage\n",
    "age_distribution = merged_df['Sex'].value_counts(normalize=True) * 100\n",
    "\n",
    "# Round to 2 decimal places and display\n",
    "age_distribution = age_distribution.round(2)\n",
    "\n",
    "print(age_distribution)"
   ]
  }
 ],
 "metadata": {
  "kernelspec": {
   "display_name": "Python 3 (ipykernel)",
   "language": "python",
   "name": "python3"
  },
  "language_info": {
   "codemirror_mode": {
    "name": "ipython",
    "version": 3
   },
   "file_extension": ".py",
   "mimetype": "text/x-python",
   "name": "python",
   "nbconvert_exporter": "python",
   "pygments_lexer": "ipython3",
   "version": "3.11.11"
  }
 },
 "nbformat": 4,
 "nbformat_minor": 5
}

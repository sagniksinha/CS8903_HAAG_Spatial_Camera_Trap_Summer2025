{
 "cells": [
  {
   "cell_type": "code",
   "execution_count": null,
   "id": "0ff3251b-7b05-4971-aae4-3bfe19285642",
   "metadata": {},
   "outputs": [],
   "source": []
  }
 ],
 "metadata": {
  "kernelspec": {
   "display_name": "",
   "name": ""
  },
  "language_info": {
   "name": ""
  }
 },
 "nbformat": 4,
 "nbformat_minor": 5
}
